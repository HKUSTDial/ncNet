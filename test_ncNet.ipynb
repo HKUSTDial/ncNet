{
 "cells": [
  {
   "cell_type": "markdown",
   "metadata": {},
   "source": [
    "# Import the necessary modules"
   ]
  },
  {
   "cell_type": "code",
   "execution_count": 16,
   "metadata": {
    "ExecuteTime": {
     "end_time": "2021-10-27T03:06:08.325335Z",
     "start_time": "2021-10-27T03:05:51.509562Z"
    }
   },
   "outputs": [
    {
     "name": "stdout",
     "output_type": "stream",
     "text": [
      "Found existing installation: torch 1.7.0\n",
      "Uninstalling torch-1.7.0:\n",
      "  Successfully uninstalled torch-1.7.0\n",
      "Collecting torch==1.7\n",
      "  Using cached torch-1.7.0-cp38-none-macosx_10_9_x86_64.whl (108.1 MB)\n",
      "Requirement already satisfied: future in /Users/yuyu/anaconda3/lib/python3.8/site-packages (from torch==1.7) (0.18.2)\n",
      "Requirement already satisfied: numpy in /Users/yuyu/anaconda3/lib/python3.8/site-packages (from torch==1.7) (1.18.5)\n",
      "Requirement already satisfied: typing-extensions in /Users/yuyu/anaconda3/lib/python3.8/site-packages (from torch==1.7) (3.7.4.2)\n",
      "Requirement already satisfied: dataclasses in /Users/yuyu/anaconda3/lib/python3.8/site-packages (from torch==1.7) (0.6)\n",
      "Installing collected packages: torch\n",
      "Successfully installed torch-1.7.0\n"
     ]
    }
   ],
   "source": [
    "! pip3 uninstall torch -y\n",
    "! pip3 install torch==1.7"
   ]
  },
  {
   "cell_type": "code",
   "execution_count": 17,
   "metadata": {
    "ExecuteTime": {
     "end_time": "2021-10-27T03:06:11.856577Z",
     "start_time": "2021-10-27T03:06:08.327795Z"
    }
   },
   "outputs": [
    {
     "name": "stdout",
     "output_type": "stream",
     "text": [
      "Found existing installation: torchtext 0.8.0\n",
      "Uninstalling torchtext-0.8.0:\n",
      "  Successfully uninstalled torchtext-0.8.0\n",
      "Collecting torchtext==0.8\n",
      "  Using cached torchtext-0.8.0-cp38-cp38-macosx_10_9_x86_64.whl (1.5 MB)\n",
      "Requirement already satisfied, skipping upgrade: tqdm in /Users/yuyu/anaconda3/lib/python3.8/site-packages (from torchtext==0.8) (4.47.0)\n",
      "Requirement already satisfied, skipping upgrade: numpy in /Users/yuyu/anaconda3/lib/python3.8/site-packages (from torchtext==0.8) (1.18.5)\n",
      "Requirement already satisfied, skipping upgrade: torch in /Users/yuyu/anaconda3/lib/python3.8/site-packages (from torchtext==0.8) (1.7.0)\n",
      "Requirement already satisfied, skipping upgrade: requests in /Users/yuyu/anaconda3/lib/python3.8/site-packages (from torchtext==0.8) (2.24.0)\n",
      "Requirement already satisfied, skipping upgrade: dataclasses in /Users/yuyu/anaconda3/lib/python3.8/site-packages (from torch->torchtext==0.8) (0.6)\n",
      "Requirement already satisfied, skipping upgrade: future in /Users/yuyu/anaconda3/lib/python3.8/site-packages (from torch->torchtext==0.8) (0.18.2)\n",
      "Requirement already satisfied, skipping upgrade: typing-extensions in /Users/yuyu/anaconda3/lib/python3.8/site-packages (from torch->torchtext==0.8) (3.7.4.2)\n",
      "Requirement already satisfied, skipping upgrade: urllib3!=1.25.0,!=1.25.1,<1.26,>=1.21.1 in /Users/yuyu/anaconda3/lib/python3.8/site-packages (from requests->torchtext==0.8) (1.25.9)\n",
      "Requirement already satisfied, skipping upgrade: certifi>=2017.4.17 in /Users/yuyu/anaconda3/lib/python3.8/site-packages (from requests->torchtext==0.8) (2020.6.20)\n",
      "Requirement already satisfied, skipping upgrade: idna<3,>=2.5 in /Users/yuyu/anaconda3/lib/python3.8/site-packages (from requests->torchtext==0.8) (2.10)\n",
      "Requirement already satisfied, skipping upgrade: chardet<4,>=3.0.2 in /Users/yuyu/anaconda3/lib/python3.8/site-packages (from requests->torchtext==0.8) (3.0.4)\n",
      "Installing collected packages: torchtext\n",
      "Successfully installed torchtext-0.8.0\n"
     ]
    }
   ],
   "source": [
    "!pip uninstall torchtext -y\n",
    "!pip install -U torchtext==0.8"
   ]
  },
  {
   "cell_type": "code",
   "execution_count": 42,
   "metadata": {
    "ExecuteTime": {
     "end_time": "2021-10-27T03:39:27.925145Z",
     "start_time": "2021-10-27T03:39:27.921224Z"
    }
   },
   "outputs": [],
   "source": [
    "import torch\n",
    "import torch.nn as nn\n",
    "\n",
    "from model.Model import Seq2Seq\n",
    "from model.Encoder import Encoder\n",
    "from model.Decoder import Decoder\n",
    "from model.VisAwareTranslation import translate_sentence_with_guidance, postprocessing, get_all_table_columns\n",
    "from preprocessing.build_vocab import build_vocab\n",
    "from utilities.vis_rendering import VegaZero2VegaLite\n",
    "\n",
    "from vega import VegaLite\n",
    "\n",
    "import random\n",
    "import numpy as np\n",
    "import pandas as pd\n",
    "import math\n",
    "import sqlite3\n",
    "from pprint import pprint "
   ]
  },
  {
   "cell_type": "code",
   "execution_count": 43,
   "metadata": {
    "ExecuteTime": {
     "end_time": "2021-10-27T03:39:28.557807Z",
     "start_time": "2021-10-27T03:39:28.551151Z"
    }
   },
   "outputs": [],
   "source": [
    "SEED = 1234\n",
    "\n",
    "random.seed(SEED)\n",
    "np.random.seed(SEED)\n",
    "torch.manual_seed(SEED)\n",
    "torch.cuda.manual_seed(SEED)\n",
    "torch.backends.cudnn.deterministic = True"
   ]
  },
  {
   "cell_type": "code",
   "execution_count": 44,
   "metadata": {
    "ExecuteTime": {
     "end_time": "2021-10-27T03:39:28.744923Z",
     "start_time": "2021-10-27T03:39:28.742876Z"
    }
   },
   "outputs": [],
   "source": [
    "# device = torch.device('cuda' if torch.cuda.is_available() else 'cpu')\n",
    "\n",
    "device = torch.device('cpu')  # cpu or gpu? depend on your computational environment."
   ]
  },
  {
   "cell_type": "code",
   "execution_count": 4,
   "metadata": {
    "ExecuteTime": {
     "end_time": "2021-10-27T03:12:11.982399Z",
     "start_time": "2021-10-27T03:12:11.973923Z"
    }
   },
   "outputs": [
    {
     "data": {
      "text/plain": [
       "device(type='cpu')"
      ]
     },
     "execution_count": 4,
     "metadata": {},
     "output_type": "execute_result"
    }
   ],
   "source": [
    "device"
   ]
  },
  {
   "cell_type": "markdown",
   "metadata": {},
   "source": [
    "# Build vocab"
   ]
  },
  {
   "cell_type": "code",
   "execution_count": 5,
   "metadata": {
    "ExecuteTime": {
     "end_time": "2021-10-27T03:12:15.602447Z",
     "start_time": "2021-10-27T03:12:11.984549Z"
    }
   },
   "outputs": [
    {
     "name": "stdout",
     "output_type": "stream",
     "text": [
      "------------------------------\n",
      "| Build vocab start ... | \n",
      "------------------------------\n"
     ]
    },
    {
     "name": "stderr",
     "output_type": "stream",
     "text": [
      "/Users/yuyu/anaconda3/lib/python3.8/site-packages/torchtext/data/field.py:150: UserWarning: Field class will be retired soon and moved to torchtext.legacy. Please see the most recent release notes for further information.\n",
      "  warnings.warn('{} class will be retired soon and moved to torchtext.legacy. Please see the most recent release notes for further information.'.format(self.__class__.__name__), UserWarning)\n",
      "/Users/yuyu/anaconda3/lib/python3.8/site-packages/torchtext/data/example.py:68: UserWarning: Example class will be retired soon and moved to torchtext.legacy. Please see the most recent release notes for further information.\n",
      "  warnings.warn('Example class will be retired soon and moved to torchtext.legacy. Please see the most recent release notes for further information.', UserWarning)\n",
      "/Users/yuyu/anaconda3/lib/python3.8/site-packages/torchtext/data/example.py:78: UserWarning: Example class will be retired soon and moved to torchtext.legacy. Please see the most recent release notes for further information.\n",
      "  warnings.warn('Example class will be retired soon and moved to torchtext.legacy. Please see the most recent release notes for further information.', UserWarning)\n"
     ]
    },
    {
     "name": "stdout",
     "output_type": "stream",
     "text": [
      "------------------------------\n",
      "| Build vocab end ... | \n",
      "------------------------------\n"
     ]
    },
    {
     "name": "stderr",
     "output_type": "stream",
     "text": [
      "/Users/yuyu/anaconda3/lib/python3.8/site-packages/torchtext/data/iterator.py:48: UserWarning: BucketIterator class will be retired soon and moved to torchtext.legacy. Please see the most recent release notes for further information.\n",
      "  warnings.warn('{} class will be retired soon and moved to torchtext.legacy. Please see the most recent release notes for further information.'.format(self.__class__.__name__), UserWarning)\n"
     ]
    }
   ],
   "source": [
    "print(\"------------------------------\\n| Build vocab start ... | \\n------------------------------\")\n",
    "SRC, TRG, TOK_TYPES, BATCH_SIZE, train_iterator, valid_iterator, test_iterator, my_max_length = build_vocab(\n",
    "    data_dir='./dataset/dataset_final/',\n",
    "    db_info='./dataset/database_information.csv',\n",
    "    batch_size=128,\n",
    "    max_input_length=128\n",
    ")\n",
    "print(\"------------------------------\\n| Build vocab end ... | \\n------------------------------\")"
   ]
  },
  {
   "cell_type": "markdown",
   "metadata": {},
   "source": [
    "# Construct ncNet model"
   ]
  },
  {
   "cell_type": "code",
   "execution_count": 6,
   "metadata": {
    "ExecuteTime": {
     "end_time": "2021-10-27T03:12:15.679017Z",
     "start_time": "2021-10-27T03:12:15.604445Z"
    }
   },
   "outputs": [],
   "source": [
    "INPUT_DIM = len(SRC.vocab)\n",
    "OUTPUT_DIM = len(TRG.vocab)\n",
    "HID_DIM = 256  # it equals to embedding dimension \n",
    "ENC_LAYERS = 3 \n",
    "DEC_LAYERS = 3 \n",
    "ENC_HEADS = 8\n",
    "DEC_HEADS = 8\n",
    "ENC_PF_DIM = 512\n",
    "DEC_PF_DIM = 512\n",
    "ENC_DROPOUT = 0.1\n",
    "DEC_DROPOUT = 0.1\n",
    "\n",
    "enc = Encoder(INPUT_DIM,\n",
    "              HID_DIM,\n",
    "              ENC_LAYERS,\n",
    "              ENC_HEADS,\n",
    "              ENC_PF_DIM,\n",
    "              ENC_DROPOUT,\n",
    "              device,\n",
    "              TOK_TYPES,\n",
    "              my_max_length\n",
    "              )\n",
    "\n",
    "dec = Decoder(OUTPUT_DIM,\n",
    "              HID_DIM,\n",
    "              DEC_LAYERS,\n",
    "              DEC_HEADS,\n",
    "              DEC_PF_DIM,\n",
    "              DEC_DROPOUT,\n",
    "              device,\n",
    "              my_max_length\n",
    "              )\n",
    "\n",
    "SRC_PAD_IDX = SRC.vocab.stoi[SRC.pad_token]\n",
    "TRG_PAD_IDX = TRG.vocab.stoi[TRG.pad_token]\n",
    "\n",
    "model = Seq2Seq(enc, dec, SRC, SRC_PAD_IDX, TRG_PAD_IDX, device).to(device)  # define the transformer-based ncNet"
   ]
  },
  {
   "cell_type": "markdown",
   "metadata": {},
   "source": [
    "# Load the trained ncNet model"
   ]
  },
  {
   "cell_type": "code",
   "execution_count": 7,
   "metadata": {
    "ExecuteTime": {
     "end_time": "2021-10-27T03:12:15.741183Z",
     "start_time": "2021-10-27T03:12:15.681053Z"
    }
   },
   "outputs": [
    {
     "data": {
      "text/plain": [
       "<All keys matched successfully>"
      ]
     },
     "execution_count": 7,
     "metadata": {},
     "output_type": "execute_result"
    }
   ],
   "source": [
    "model.load_state_dict(torch.load('./save_models/trained_model.pt', map_location=device))\n"
   ]
  },
  {
   "cell_type": "markdown",
   "metadata": {},
   "source": [
    "# Testing"
   ]
  },
  {
   "cell_type": "markdown",
   "metadata": {},
   "source": [
    "## read the testing dataset"
   ]
  },
  {
   "cell_type": "code",
   "execution_count": 8,
   "metadata": {
    "ExecuteTime": {
     "end_time": "2021-10-27T03:12:15.801061Z",
     "start_time": "2021-10-27T03:12:15.742537Z"
    }
   },
   "outputs": [],
   "source": [
    "db_tables_columns = get_all_table_columns('./dataset/db_tables_columns.json')\n",
    "db_tables_columns_types = get_all_table_columns('./dataset/db_tables_columns_types.json')\n",
    "\n",
    "test_df = pd.read_csv('./dataset/dataset_final/test.csv')\n",
    "\n",
    "# shuffle your dataframe in-place and reset the index\n",
    "test_df = test_df.sample(frac=1).reset_index(drop=True)"
   ]
  },
  {
   "cell_type": "code",
   "execution_count": 9,
   "metadata": {
    "ExecuteTime": {
     "end_time": "2021-10-27T03:12:15.815438Z",
     "start_time": "2021-10-27T03:12:15.802714Z"
    }
   },
   "outputs": [
    {
     "data": {
      "text/html": [
       "<div>\n",
       "<style scoped>\n",
       "    .dataframe tbody tr th:only-of-type {\n",
       "        vertical-align: middle;\n",
       "    }\n",
       "\n",
       "    .dataframe tbody tr th {\n",
       "        vertical-align: top;\n",
       "    }\n",
       "\n",
       "    .dataframe thead th {\n",
       "        text-align: right;\n",
       "    }\n",
       "</style>\n",
       "<table border=\"1\" class=\"dataframe\">\n",
       "  <thead>\n",
       "    <tr style=\"text-align: right;\">\n",
       "      <th></th>\n",
       "      <th>tvBench_id</th>\n",
       "      <th>db_id</th>\n",
       "      <th>chart</th>\n",
       "      <th>hardness</th>\n",
       "      <th>query</th>\n",
       "      <th>question</th>\n",
       "      <th>vega_zero</th>\n",
       "      <th>mentioned_columns</th>\n",
       "      <th>mentioned_values</th>\n",
       "      <th>query_template</th>\n",
       "      <th>source</th>\n",
       "      <th>labels</th>\n",
       "      <th>token_types</th>\n",
       "    </tr>\n",
       "  </thead>\n",
       "  <tbody>\n",
       "    <tr>\n",
       "      <th>0</th>\n",
       "      <td>2914@y_name@DESC</td>\n",
       "      <td>swimming</td>\n",
       "      <td>Bar</td>\n",
       "      <td>Easy</td>\n",
       "      <td>Visualize BAR SELECT name , ID FROM swimmer OR...</td>\n",
       "      <td>Draw a bar chart about the distribution of nam...</td>\n",
       "      <td>mark bar data swimmer encoding x name y aggreg...</td>\n",
       "      <td>id name time</td>\n",
       "      <td>NaN</td>\n",
       "      <td>mark bar data swimmer encoding x [X] y aggrega...</td>\n",
       "      <td>&lt;N&gt; Draw a bar chart about the distribution of...</td>\n",
       "      <td>mark bar data swimmer encoding x name y aggreg...</td>\n",
       "      <td>nl nl nl nl nl nl nl nl nl nl nl nl nl nl nl n...</td>\n",
       "    </tr>\n",
       "    <tr>\n",
       "      <th>1</th>\n",
       "      <td>586</td>\n",
       "      <td>college_1</td>\n",
       "      <td>Bar</td>\n",
       "      <td>Easy</td>\n",
       "      <td>Visualize BAR SELECT DEPT_CODE , sum(crs_credi...</td>\n",
       "      <td>Bar chart of sum crs credit from each dept code</td>\n",
       "      <td>mark bar data course encoding x dept_code y ag...</td>\n",
       "      <td>dept_code crs_credit</td>\n",
       "      <td>NaN</td>\n",
       "      <td>mark [T] data course encoding x [X] y aggregat...</td>\n",
       "      <td>&lt;N&gt; Bar chart of sum crs credit from each dept...</td>\n",
       "      <td>mark bar data course encoding x dept_code y ag...</td>\n",
       "      <td>nl nl nl nl nl nl nl nl nl nl nl nl template t...</td>\n",
       "    </tr>\n",
       "    <tr>\n",
       "      <th>2</th>\n",
       "      <td>2798@x_name@ASC</td>\n",
       "      <td>soccer_2</td>\n",
       "      <td>Bar</td>\n",
       "      <td>Medium</td>\n",
       "      <td>Visualize BAR SELECT cName , min(enr) FROM col...</td>\n",
       "      <td>Return a bar graph for the name of the school ...</td>\n",
       "      <td>mark bar data college encoding x cname y aggre...</td>\n",
       "      <td>state cname enr</td>\n",
       "      <td>NaN</td>\n",
       "      <td>mark [T] data college encoding x [X] y aggrega...</td>\n",
       "      <td>&lt;N&gt; Return a bar graph for the name of the sch...</td>\n",
       "      <td>mark bar data college encoding x cname y aggre...</td>\n",
       "      <td>nl nl nl nl nl nl nl nl nl nl nl nl nl nl nl n...</td>\n",
       "    </tr>\n",
       "    <tr>\n",
       "      <th>3</th>\n",
       "      <td>3051</td>\n",
       "      <td>train_station</td>\n",
       "      <td>Pie</td>\n",
       "      <td>Easy</td>\n",
       "      <td>Visualize PIE SELECT Location , sum(number_of_...</td>\n",
       "      <td>Show the proportion of the total number of pla...</td>\n",
       "      <td>mark arc data station encoding x location y ag...</td>\n",
       "      <td>location number_of_platforms</td>\n",
       "      <td>NaN</td>\n",
       "      <td>mark [T] data station encoding x [X] y aggrega...</td>\n",
       "      <td>&lt;N&gt; Show the proportion of the total number of...</td>\n",
       "      <td>mark arc data station encoding x location y ag...</td>\n",
       "      <td>nl nl nl nl nl nl nl nl nl nl nl nl nl nl nl n...</td>\n",
       "    </tr>\n",
       "    <tr>\n",
       "      <th>4</th>\n",
       "      <td>73</td>\n",
       "      <td>apartment_rentals</td>\n",
       "      <td>Pie</td>\n",
       "      <td>Easy</td>\n",
       "      <td>Visualize PIE SELECT booking_status_code , COU...</td>\n",
       "      <td>How many bookings does each booking status hav...</td>\n",
       "      <td>mark arc data apartment_bookings encoding x bo...</td>\n",
       "      <td>booking_status_code</td>\n",
       "      <td>NaN</td>\n",
       "      <td>mark [T] data apartment_bookings encoding x [X...</td>\n",
       "      <td>&lt;N&gt; How many bookings does each booking status...</td>\n",
       "      <td>mark arc data apartment_bookings encoding x bo...</td>\n",
       "      <td>nl nl nl nl nl nl nl nl nl nl nl nl nl nl nl n...</td>\n",
       "    </tr>\n",
       "  </tbody>\n",
       "</table>\n",
       "</div>"
      ],
      "text/plain": [
       "         tvBench_id              db_id chart hardness  \\\n",
       "0  2914@y_name@DESC           swimming   Bar     Easy   \n",
       "1               586          college_1   Bar     Easy   \n",
       "2   2798@x_name@ASC           soccer_2   Bar   Medium   \n",
       "3              3051      train_station   Pie     Easy   \n",
       "4                73  apartment_rentals   Pie     Easy   \n",
       "\n",
       "                                               query  \\\n",
       "0  Visualize BAR SELECT name , ID FROM swimmer OR...   \n",
       "1  Visualize BAR SELECT DEPT_CODE , sum(crs_credi...   \n",
       "2  Visualize BAR SELECT cName , min(enr) FROM col...   \n",
       "3  Visualize PIE SELECT Location , sum(number_of_...   \n",
       "4  Visualize PIE SELECT booking_status_code , COU...   \n",
       "\n",
       "                                            question  \\\n",
       "0  Draw a bar chart about the distribution of nam...   \n",
       "1    Bar chart of sum crs credit from each dept code   \n",
       "2  Return a bar graph for the name of the school ...   \n",
       "3  Show the proportion of the total number of pla...   \n",
       "4  How many bookings does each booking status hav...   \n",
       "\n",
       "                                           vega_zero  \\\n",
       "0  mark bar data swimmer encoding x name y aggreg...   \n",
       "1  mark bar data course encoding x dept_code y ag...   \n",
       "2  mark bar data college encoding x cname y aggre...   \n",
       "3  mark arc data station encoding x location y ag...   \n",
       "4  mark arc data apartment_bookings encoding x bo...   \n",
       "\n",
       "              mentioned_columns mentioned_values  \\\n",
       "0                  id name time              NaN   \n",
       "1          dept_code crs_credit              NaN   \n",
       "2               state cname enr              NaN   \n",
       "3  location number_of_platforms              NaN   \n",
       "4           booking_status_code              NaN   \n",
       "\n",
       "                                      query_template  \\\n",
       "0  mark bar data swimmer encoding x [X] y aggrega...   \n",
       "1  mark [T] data course encoding x [X] y aggregat...   \n",
       "2  mark [T] data college encoding x [X] y aggrega...   \n",
       "3  mark [T] data station encoding x [X] y aggrega...   \n",
       "4  mark [T] data apartment_bookings encoding x [X...   \n",
       "\n",
       "                                              source  \\\n",
       "0  <N> Draw a bar chart about the distribution of...   \n",
       "1  <N> Bar chart of sum crs credit from each dept...   \n",
       "2  <N> Return a bar graph for the name of the sch...   \n",
       "3  <N> Show the proportion of the total number of...   \n",
       "4  <N> How many bookings does each booking status...   \n",
       "\n",
       "                                              labels  \\\n",
       "0  mark bar data swimmer encoding x name y aggreg...   \n",
       "1  mark bar data course encoding x dept_code y ag...   \n",
       "2  mark bar data college encoding x cname y aggre...   \n",
       "3  mark arc data station encoding x location y ag...   \n",
       "4  mark arc data apartment_bookings encoding x bo...   \n",
       "\n",
       "                                         token_types  \n",
       "0  nl nl nl nl nl nl nl nl nl nl nl nl nl nl nl n...  \n",
       "1  nl nl nl nl nl nl nl nl nl nl nl nl template t...  \n",
       "2  nl nl nl nl nl nl nl nl nl nl nl nl nl nl nl n...  \n",
       "3  nl nl nl nl nl nl nl nl nl nl nl nl nl nl nl n...  \n",
       "4  nl nl nl nl nl nl nl nl nl nl nl nl nl nl nl n...  "
      ]
     },
     "execution_count": 9,
     "metadata": {},
     "output_type": "execute_result"
    }
   ],
   "source": [
    "test_df.head()"
   ]
  },
  {
   "cell_type": "markdown",
   "metadata": {},
   "source": [
    "## testing and rendering the result using vega-lite"
   ]
  },
  {
   "cell_type": "code",
   "execution_count": 10,
   "metadata": {
    "ExecuteTime": {
     "end_time": "2021-10-27T03:12:15.822085Z",
     "start_time": "2021-10-27T03:12:15.818726Z"
    }
   },
   "outputs": [
    {
     "name": "stdout",
     "output_type": "stream",
     "text": [
      "cpu\n"
     ]
    }
   ],
   "source": [
    "print(device)"
   ]
  },
  {
   "cell_type": "code",
   "execution_count": 50,
   "metadata": {
    "ExecuteTime": {
     "end_time": "2021-10-27T03:40:38.183696Z",
     "start_time": "2021-10-27T03:40:37.841123Z"
    }
   },
   "outputs": [
    {
     "name": "stdout",
     "output_type": "stream",
     "text": [
      "=========================================================\n",
      "\n",
      "[Database]:\n",
      " swimming\n",
      "[NL Question]:\n",
      " Draw a bar chart about the distribution of name and ID , I want to display from high to low by the Y-axis .\n",
      "[Chart Template]:\n",
      " mark bar data swimmer encoding x [X] y aggregate [AggFunction] [Y] color [Z] transform filter [F] group [G] bin [B] sort [Y] desc topk [K]\n",
      "[Predicted VIS Query]:\n",
      " mark bar data swimmer encoding x name y aggregate none id transform sort y desc\n",
      "[The Ground Truth VIS Query]:\n",
      " mark bar data swimmer encoding x name y aggregate none id transform sort y desc\n",
      "The Predicted VIS:\n",
      "<vega.vegalite.VegaLite object at 0x7fd84f0a0610>\n",
      "{\"mark\": \"bar\", \"encoding\": {\"x\": {\"field\": \"name\", \"type\": \"nominal\", \"sort\": \"-y\"}, \"y\": {\"field\": \"id\", \"type\": \"quantitative\"}}, \"data\": {\"values\": [{\"id\": 7, \"name\": \"Przemys\\u0142aw Sta\\u0144czyk\", \"nationality\": \"Poland\", \"meter_100\": 57.31, \"meter_200\": \"1:57.10\", \"meter_300\": \"2:56.02\", \"meter_400\": \"3:55.36\", \"meter_500\": \"4:54.21\", \"meter_600\": \"5:52.59\", \"meter_700\": \"6:50.91\", \"time\": \"7:47.91\"}, {\"id\": 4, \"name\": \"Craig Stevens\", \"nationality\": \"Australia\", \"meter_100\": 57.35, \"meter_200\": \"1:56.34\", \"meter_300\": \"2:55.90\", \"meter_400\": \"3:55.72\", \"meter_500\": \"4:55.08\", \"meter_600\": \"5:54.45\", \"meter_700\": \"6:52.69\", \"time\": \"7:48.67\"}, {\"id\": 5, \"name\": \"Federico Colbertaldo\", \"nationality\": \"Italy\", \"meter_100\": 57.66, \"meter_200\": \"1:56.77\", \"meter_300\": \"2:56.04\", \"meter_400\": \"3:55.37\", \"meter_500\": \"4:54.48\", \"meter_600\": \"5:53.53\", \"meter_700\": \"6:52.58\", \"time\": \"7:49.98\"}, {\"id\": 8, \"name\": \"S\\u00e9bastien Rouault\", \"nationality\": \"France\", \"meter_100\": 55.67, \"meter_200\": \"1:54.40\", \"meter_300\": \"2:53.46\", \"meter_400\": \"3:52.93\", \"meter_500\": \"4:52.85\", \"meter_600\": \"5:53.03\", \"meter_700\": \"6:53.34\", \"time\": \"7:52.04\"}, {\"id\": 1, \"name\": \"Sergiy Fesenko\", \"nationality\": \"Ukraine\", \"meter_100\": 57.34, \"meter_200\": \"1:57.26\", \"meter_300\": \"2:57.10\", \"meter_400\": \"3:57.12\", \"meter_500\": \"4:57.03\", \"meter_600\": \"5:56.31\", \"meter_700\": \"6:55.07\", \"time\": \"7:53.43\"}, {\"id\": 2, \"name\": \"Grant Hackett\", \"nationality\": \"Australia\", \"meter_100\": 57.34, \"meter_200\": \"1:57.21\", \"meter_300\": \"2:56.95\", \"meter_400\": \"3:57.00\", \"meter_500\": \"4:56.96\", \"meter_600\": \"5:57.10\", \"meter_700\": \"6:57.44\", \"time\": \"7:55.39\"}, {\"id\": 6, \"name\": \"Ryan Cochrane\", \"nationality\": \"Canada\", \"meter_100\": 57.84, \"meter_200\": \"1:57.26\", \"meter_300\": \"2:56.64\", \"meter_400\": \"3:56.34\", \"meter_500\": \"4:56.15\", \"meter_600\": \"5:56.99\", \"meter_700\": \"6:57.69\", \"time\": \"7:56.56\"}, {\"id\": 3, \"name\": \"Oussama Mellouli\", \"nationality\": \"Tunisia\", \"meter_100\": 57.31, \"meter_200\": \"1:56.44\", \"meter_300\": \"2:55.94\", \"meter_400\": \"3:55.49\", \"meter_500\": \"4:54.19\", \"meter_600\": \"5:52.92\", \"meter_700\": \"6:50.80\", \"time\": \"7:46.95\"}]}}\n",
      "\n",
      "\n",
      "=========================================================\n",
      "\n",
      "[Database]:\n",
      " college_1\n",
      "[NL Question]:\n",
      " Bar chart of sum crs credit from each dept code\n",
      "[Chart Template]:\n",
      " mark [T] data course encoding x [X] y aggregate [AggFunction] [Y] color [Z] transform filter [F] group [G] bin [B] sort [S] topk [K]\n",
      "[Predicted VIS Query]:\n",
      " mark bar data course encoding x dept_code y aggregate sum crs_credit transform group x\n",
      "[The Ground Truth VIS Query]:\n",
      " mark bar data course encoding x dept_code y aggregate sum crs_credit transform group x\n",
      "The Predicted VIS:\n",
      "<vega.vegalite.VegaLite object at 0x7fd84f0a2c70>\n",
      "{\"mark\": \"bar\", \"encoding\": {\"x\": {\"field\": \"dept_code\", \"type\": \"nominal\"}, \"y\": {\"field\": \"crs_credit\", \"type\": \"quantitative\", \"aggregate\": \"sum\"}}, \"data\": {\"values\": [{\"crs_code\": \"ACCT-211\", \"dept_code\": \"ACCT\", \"crs_description\": \"Accounting I\", \"crs_credit\": 3.0}, {\"crs_code\": \"ACCT-212\", \"dept_code\": \"ACCT\", \"crs_description\": \"Accounting II\", \"crs_credit\": 3.0}, {\"crs_code\": \"CIS-220\", \"dept_code\": \"CIS\", \"crs_description\": \"Intro. to Microcomputing\", \"crs_credit\": 3.0}, {\"crs_code\": \"CIS-420\", \"dept_code\": \"CIS\", \"crs_description\": \"Database Design and Implementation\", \"crs_credit\": 4.0}, {\"crs_code\": \"QM-261\", \"dept_code\": \"CIS\", \"crs_description\": \"Intro. to Statistics\", \"crs_credit\": 3.0}, {\"crs_code\": \"QM-362\", \"dept_code\": \"CIS\", \"crs_description\": \"Statistical Applications\", \"crs_credit\": 4.0}]}}\n",
      "\n",
      "\n",
      "=========================================================\n",
      "\n",
      "[Database]:\n",
      " soccer_2\n",
      "[NL Question]:\n",
      " Return a bar graph for the name of the school that has the smallest enrollment in each state , could you order by the x axis in asc please ?\n",
      "[Chart Template]:\n",
      " mark [T] data college encoding x [X] y aggregate [AggFunction] [Y] color [Z] transform filter [F] group [G] bin [B] sort [S] topk [K]\n",
      "[Predicted VIS Query]:\n",
      " mark bar data college encoding x cname y aggregate min enr transform group state sort x asc\n",
      "[The Ground Truth VIS Query]:\n",
      " mark bar data college encoding x cname y aggregate min enr transform group state sort x asc\n",
      "The Predicted VIS:\n",
      "<vega.vegalite.VegaLite object at 0x7fd84f0a3d90>\n",
      "{\"mark\": \"bar\", \"encoding\": {\"x\": {\"field\": \"cname\", \"type\": \"nominal\"}, \"y\": {\"field\": \"enr\", \"type\": \"quantitative\", \"aggregate\": \"min\", \"sort\": \"x\"}}, \"data\": {\"values\": [{\"cname\": \"LSU\", \"state\": \"LA\", \"enr\": 18000}, {\"cname\": \"ASU\", \"state\": \"AZ\", \"enr\": 12000}, {\"cname\": \"OU\", \"state\": \"OK\", \"enr\": 22000}, {\"cname\": \"FSU\", \"state\": \"FL\", \"enr\": 19000}]}}\n",
      "\n",
      "\n",
      "========================================================\n",
      "ncNet w/o chart template: 1.0\n",
      "ncNet with chart template: 1.0\n",
      "ncNet overall: 1.0\n"
     ]
    }
   ],
   "source": [
    "only_nl_cnt = 0\n",
    "only_nl_match = 0\n",
    "\n",
    "nl_template_cnt = 0\n",
    "nl_template_match = 0\n",
    "\n",
    "query2vl = VegaZero2VegaLite()\n",
    "\n",
    "for index, row in test_df.iterrows():\n",
    "    \n",
    "    gold_query = row['labels'].lower()\n",
    "    src = row['source'].lower()\n",
    "    \n",
    "\n",
    "    tok_types = row['token_types']\n",
    "    table_name = gold_query.split(' ')[gold_query.split(' ').index('data')+1]\n",
    "    \n",
    "    translation, attention, enc_attention = translate_sentence_with_guidance(\n",
    "        row['db_id'], table_name, src, SRC, TRG, TOK_TYPES, tok_types, SRC, \n",
    "        model, db_tables_columns, db_tables_columns_types, device, my_max_length\n",
    "    )\n",
    "\n",
    "    pred_query = ' '.join(translation).replace(' <eos>', '').lower()\n",
    "    old_pred_query = pred_query\n",
    "\n",
    "    if '[t]' not in src:\n",
    "        # with template\n",
    "\n",
    "        nl_template_cnt += 1\n",
    "\n",
    "        if ' '.join(gold_query.replace('\"', \"'\").split()) == ' '.join(pred_query.replace('\"', \"'\").split()):\n",
    "            nl_template_match += 1\n",
    "            \n",
    "            predict_query = ' '.join(pred_query.replace('\"', \"'\").split())                                                                     \n",
    "            print('=========================================================\\n')\n",
    "            print('[Database]:\\n', row['db_id'])\n",
    "            print('[NL Question]:\\n', row['question'])\n",
    "            print('[Chart Template]:\\n', row['query_template'])\n",
    "            print('[Predicted VIS Query]:\\n', predict_query)\n",
    "            print('[The Ground Truth VIS Query]:\\n', gold_query)\n",
    "            ############ Query the VIS Result ############\n",
    "            print('The Predicted VIS:')\n",
    "            cnx = sqlite3.connect('./dataset/database/'+row['db_id']+'/'+row['db_id']+'.sqlite')\n",
    "            table4vis = pd.read_sql_query(\"SELECT * FROM \" + table_name, cnx)\n",
    "            table4vis.columns = table4vis.columns.str.lower() # to lowercase\n",
    "            pprint(VegaLite(query2vl.to_VegaLite(predict_query, table4vis)))\n",
    "            print(json.dumps(query2vl.to_VegaLite(predict_query, table4vis))) # print the vega-lite spec\n",
    "            print('\\n')\n",
    "            \n",
    "        else:\n",
    "            pass\n",
    "\n",
    "    if '[t]' in src:\n",
    "        # without template\n",
    "\n",
    "        only_nl_cnt += 1\n",
    "        if ' '.join(gold_query.replace('\"', \"'\").split()) == ' '.join(pred_query.replace('\"', \"'\").split()):  \n",
    "            only_nl_match += 1\n",
    "            \n",
    "            predict_query = ' '.join(pred_query.replace('\"', \"'\").split())      \n",
    "            print('=========================================================\\n')\n",
    "            print('[Database]:\\n', row['db_id'])\n",
    "            print('[NL Question]:\\n', row['question'])\n",
    "            print('[Chart Template]:\\n', row['query_template'])\n",
    "            print('[Predicted VIS Query]:\\n', predict_query)\n",
    "            print('[The Ground Truth VIS Query]:\\n', gold_query)\n",
    "            ############ Query the VIS Result ############\n",
    "            print('The Predicted VIS:')\n",
    "            cnx = sqlite3.connect('./dataset/database/'+row['db_id']+'/'+row['db_id']+'.sqlite')\n",
    "            table4vis = pd.read_sql_query(\"SELECT * FROM \" + table_name, cnx)\n",
    "            table4vis.columns = table4vis.columns.str.lower() # to lowercase\n",
    "            print(VegaLite(query2vl.to_VegaLite(predict_query, table4vis)))\n",
    "            print(json.dumps(query2vl.to_VegaLite(predict_query, table4vis))) # print the vega-lite spec\n",
    "            print('\\n')\n",
    "            \n",
    "        else:\n",
    "            pass\n",
    "    \n",
    "    \n",
    "    #show top-X testing cases.\n",
    "    if index > 1:\n",
    "        break\n",
    "\n",
    "\n",
    "print(\"========================================================\")\n",
    "print('ncNet w/o chart template:', only_nl_match/only_nl_cnt)\n",
    "print('ncNet with chart template:', nl_template_match/nl_template_cnt)\n",
    "print('ncNet overall:',(only_nl_match+nl_template_match) / (only_nl_cnt+nl_template_cnt))\n",
    "\n"
   ]
  },
  {
   "cell_type": "code",
   "execution_count": 51,
   "metadata": {
    "ExecuteTime": {
     "end_time": "2021-10-27T03:40:48.934363Z",
     "start_time": "2021-10-27T03:40:48.930755Z"
    }
   },
   "outputs": [
    {
     "data": {
      "application/javascript": [
       "const spec = {\"mark\": \"bar\", \"encoding\": {\"x\": {\"field\": \"cname\", \"type\": \"nominal\"}, \"y\": {\"field\": \"enr\", \"type\": \"quantitative\", \"aggregate\": \"min\", \"sort\": \"x\"}}, \"data\": {\"values\": [{\"cname\": \"LSU\", \"state\": \"LA\", \"enr\": 18000}, {\"cname\": \"ASU\", \"state\": \"AZ\", \"enr\": 12000}, {\"cname\": \"OU\", \"state\": \"OK\", \"enr\": 22000}, {\"cname\": \"FSU\", \"state\": \"FL\", \"enr\": 19000}]}};\n",
       "const opt = {};\n",
       "const type = \"vega-lite\";\n",
       "const id = \"a8a997d3-53d7-474e-8ed4-3edf93c68558\";\n",
       "\n",
       "const output_area = this;\n",
       "\n",
       "require([\"nbextensions/jupyter-vega/index\"], function(vega) {\n",
       "  const target = document.createElement(\"div\");\n",
       "  target.id = id;\n",
       "  target.className = \"vega-embed\";\n",
       "\n",
       "  const style = document.createElement(\"style\");\n",
       "  style.textContent = [\n",
       "    \".vega-embed .error p {\",\n",
       "    \"  color: firebrick;\",\n",
       "    \"  font-size: 14px;\",\n",
       "    \"}\",\n",
       "  ].join(\"\\\\n\");\n",
       "\n",
       "  // element is a jQuery wrapped DOM element inside the output area\n",
       "  // see http://ipython.readthedocs.io/en/stable/api/generated/\\\n",
       "  // IPython.display.html#IPython.display.Javascript.__init__\n",
       "  element[0].appendChild(target);\n",
       "  element[0].appendChild(style);\n",
       "\n",
       "  vega.render(\"#\" + id, spec, type, opt, output_area);\n",
       "}, function (err) {\n",
       "  if (err.requireType !== \"scripterror\") {\n",
       "    throw(err);\n",
       "  }\n",
       "});\n"
      ],
      "text/plain": [
       "<vega.vegalite.VegaLite at 0x7fd84eabcee0>"
      ]
     },
     "execution_count": 51,
     "metadata": {
      "jupyter-vega": "#a8a997d3-53d7-474e-8ed4-3edf93c68558"
     },
     "output_type": "execute_result"
    },
    {
     "data": {
      "image/png": "[encoded data removed]"
     },
     "metadata": {
      "jupyter-vega": "#a8a997d3-53d7-474e-8ed4-3edf93c68558"
     },
     "output_type": "display_data"
    }
   ],
   "source": [
    "VegaLite(query2vl.to_VegaLite(predict_query, table4vis))"
   ]
  }
 ],
 "metadata": {
  "kernelspec": {
   "display_name": "Python 3",
   "language": "python",
   "name": "python3"
  },
  "language_info": {
   "codemirror_mode": {
    "name": "ipython",
    "version": 3
   },
   "file_extension": ".py",
   "mimetype": "text/x-python",
   "name": "python",
   "nbconvert_exporter": "python",
   "pygments_lexer": "ipython3",
   "version": "3.8.3"
  },
  "latex_envs": {
   "LaTeX_envs_menu_present": true,
   "autoclose": false,
   "autocomplete": true,
   "bibliofile": "biblio.bib",
   "cite_by": "apalike",
   "current_citInitial": 1,
   "eqLabelWithNumbers": true,
   "eqNumInitial": 1,
   "hotkeys": {
    "equation": "Ctrl-E",
    "itemize": "Ctrl-I"
   },
   "labels_anchors": false,
   "latex_user_defs": false,
   "report_style_numbering": false,
   "user_envs_cfg": false
  },
  "toc": {
   "base_numbering": 1,
   "nav_menu": {},
   "number_sections": true,
   "sideBar": true,
   "skip_h1_title": false,
   "title_cell": "Table of Contents",
   "title_sidebar": "Contents",
   "toc_cell": false,
   "toc_position": {},
   "toc_section_display": true,
   "toc_window_display": false
  }
 },
 "nbformat": 4,
 "nbformat_minor": 4
}
